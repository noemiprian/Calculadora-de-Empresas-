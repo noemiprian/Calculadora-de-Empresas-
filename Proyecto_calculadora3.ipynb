{
 "cells": [
  {
   "cell_type": "code",
   "execution_count": null,
   "metadata": {},
   "outputs": [
    {
     "name": "stdout",
     "output_type": "stream",
     "text": [
      "                                            Cotizacion de Aire Acondicionado                                            \n"
     ]
    }
   ],
   "source": [
    "print(\"Cotizacion de Aire Acondicionado\".center(120,\" \"))\n",
    "Metros= input(\"¿Cuantos metros cuadrados es tu edificacion?: \")\n",
    "Temperatura= input(\"¿Quieres solo enfriamiento o enfriamento y calefaccion?: \")\n",
    "\n",
    "def Compra(equipo, marca):\n",
    "    equipos = [ \"mini SPLIT, 1TR\",\n",
    "               \"mini SPLIT, 1.5TR\",\"Unidad tipo paquete 5TR\",\n",
    "               \"Unidad tipo paquete 10RT\",\n",
    "              \"Unidad manejadora de aire 15-20iR\"]\n",
    "    equipos = {\n",
    "        1: {\"nombre\": \"mini SPLIT, 1TR\",\n",
    "            \"precio_base\": 1000},\n",
    "        2: {\"nombre\": \"mini SPLIT, 1.5TR\",\n",
    "           \"precio_base\": 8000},\n",
    "        3: {\"nombre\":\"Unidad tipo paquete 5TR\",\n",
    "           \"precio_base\": 15000},\n",
    "        4: {\"nombre\":\"Unidad tipo paquete 10RT\",\n",
    "           \"precio_base\": 20000},\n",
    "        5: {\"nombre\":\"Unidad manejadora de aire 15-20iR\",\n",
    "           \"precio_base\": 35000}\n",
    "    }\n",
    "    \n",
    "    if marca == \"LG\":\n",
    "        if equipo == 1:\n",
    "            return equipos[1][\"precio_base\"] * 0.03 \n",
    "        else:\n",
    "            raise KeyError(\"La marca para este equipo no esta disponible\")\n",
    "    if marca == \"Trox\":\n",
    "        if equipo == 1:\n",
    "            return equipos[1][\"precio_base\"]* 0.05 \n",
    "    if marca == \"Carrier\":\n",
    "        if equipo == 1:\n",
    "            return equipos[1][\"precio_base\"]*0.08 \n",
    "    if marca == \"LG\":\n",
    "        if equipo == 2:\n",
    "            return equipos[2][\"precio_base\"] * 0.03\n",
    "        else:\n",
    "            raise KeyError(\"La marca para este equipo no esta disponible\")\n",
    "    if marca == \"Trox\":\n",
    "        if equipo == 2:\n",
    "            return equipos[2][\"precio_base\"]* 0.05\n",
    "            \n",
    "    if marca == \"Carrier\":\n",
    "        if equipo == 2:\n",
    "            return equipos[2][\"precio_base\"]*0.08\n",
    "    if marca == \"LG\":\n",
    "        if equipo == 3:\n",
    "            return equipos[3][\"precio_base\"] * 0.03 \n",
    "        else:\n",
    "            raise KeyError(\"La marca para este equipo no esta disponible\")\n",
    "    if marca == \"Trox\":\n",
    "        if equipo == 3:\n",
    "            return equipos[3][\"precio_base\"]* 0.05 \n",
    "            \n",
    "    if marca == \"Carrier\":\n",
    "        if equipo == 3:\n",
    "            return equipos[3][\"precio_base\"]*0.08 \n",
    "    if marca == \"LG\":\n",
    "        if equipo == 4:\n",
    "            return equipos[4][\"precio_base\"] * 0.03 \n",
    "        else:\n",
    "            raise KeyError(\"La marca para este equipo no esta disponible\")\n",
    "    if marca == \"Trox\":\n",
    "        if equipo == 4:\n",
    "            return equipos[4][\"precio_base\"]* 0.05 \n",
    "            \n",
    "    if marca == \"Carrier\":\n",
    "        if equipo == 4:\n",
    "            return equipos[4][\"precio_base\"]*0.08 \n",
    "    if marca == \"LG\":\n",
    "        if equipo == 5:\n",
    "            return equipos[5][\"precio_base\"] * 0.03  \n",
    "        else:\n",
    "            raise KeyError(\"La marca para este equipo no esta disponible\")\n",
    "    if marca == \"Trox\":\n",
    "        if equipo == 5:\n",
    "            return equipos[5][\"precio_base\"]* 0.05 \n",
    "            \n",
    "    if marca == \"Carrier\":\n",
    "        if equipo == 5:\n",
    "            return equipos[5][\"precio_base\"]*0.08 \n",
    "            \n",
    "\n",
    "\n",
    "\n",
    "\n",
    "    \n",
    "    \n",
    "    \n",
    "\n",
    "    \n",
    "\n",
    "\n",
    "    "
   ]
  },
  {
   "cell_type": "code",
   "execution_count": 10,
   "metadata": {},
   "outputs": [
    {
     "data": {
      "text/plain": [
       "<function __main__.Compra(equipo, marca)>"
      ]
     },
     "execution_count": 10,
     "metadata": {},
     "output_type": "execute_result"
    }
   ],
   "source": []
  },
  {
   "cell_type": "code",
   "execution_count": null,
   "metadata": {},
   "outputs": [],
   "source": []
  }
 ],
 "metadata": {
  "kernelspec": {
   "display_name": "Python 3",
   "language": "python",
   "name": "python3"
  },
  "language_info": {
   "codemirror_mode": {
    "name": "ipython",
    "version": 3
   },
   "file_extension": ".py",
   "mimetype": "text/x-python",
   "name": "python",
   "nbconvert_exporter": "python",
   "pygments_lexer": "ipython3",
   "version": "3.6.5"
  }
 },
 "nbformat": 4,
 "nbformat_minor": 2
}
