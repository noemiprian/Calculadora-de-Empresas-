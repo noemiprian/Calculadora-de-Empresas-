{
 "cells": [
  {
   "cell_type": "code",
   "execution_count": 1,
   "metadata": {},
   "outputs": [
    {
     "ename": "SyntaxError",
     "evalue": "invalid syntax (<ipython-input-1-e738581e175a>, line 5)",
     "output_type": "error",
     "traceback": [
      "\u001b[1;36m  File \u001b[1;32m\"<ipython-input-1-e738581e175a>\"\u001b[1;36m, line \u001b[1;32m5\u001b[0m\n\u001b[1;33m    Equipo= input(\"¿Que tipo de equipo deseas comprar?: \"):\u001b[0m\n\u001b[1;37m                                                          ^\u001b[0m\n\u001b[1;31mSyntaxError\u001b[0m\u001b[1;31m:\u001b[0m invalid syntax\n"
     ]
    }
   ],
   "source": [
    "\n",
    "print(\"Cotizacion de Aire Acondicionado\".center(120,\" \"))\n",
    "Metros= input(\"¿Cuantos metros cuadrados es tu edificacion?: \")\n",
    "Temperatura= input(\"¿Quieres solo enfriamiento o enfriamento y calefaccion?: \")\n",
    "def Equipo(x):\n",
    "    Compra= input(\"¿Que tipo de equipo deseas comprar?: \")\n",
    "    eq1= {\"mini SPLIT, 1TR\"}\n",
    "    eq2= {\"mini SPLIT, 2 1/2TR\"}\n",
    "    eq3= {\"Unidad tipo paquete 5TR\"}\n",
    "    eq4= {\"Unidad tipo paquete 10RT\"}\n",
    "    eq5= {\"Unidad manejadora de aire 15-20iR\"}\n",
    "    for i in equipo:\n",
    "        if i== eq1:\n",
    "            print(\"El precio por tu {eq1} es de : $5,000.00\")\n",
    "        elif i == eq2:\n",
    "            print(\"El precio por tu {eq2} es de : $8,000.00\")\n",
    "        elif i == eq3:\n",
    "            print(\"El precio por tu {eq3} es de : $15,000.00\")\n",
    "        elif i == eq4:\n",
    "            print(\"El precio por tu {eq4} es de : $20,000.00\")\n",
    "        elif i == eq5:\n",
    "            print(\"El precio por tu {eq5} es de : $35,000.00\")\n",
    "        else:\n",
    "            Error= (\"Este equipo no esta disponible\")\n",
    "            raise KeyError(Error) \n",
    "\n",
    "\n",
    "\n",
    "\n",
    "    \n",
    "    \n",
    "    \n",
    "\n",
    "    \n",
    "\n",
    "\n",
    "    "
   ]
  },
  {
   "cell_type": "code",
   "execution_count": null,
   "metadata": {},
   "outputs": [],
   "source": []
  }
 ],
 "metadata": {
  "kernelspec": {
   "display_name": "Python 3",
   "language": "python",
   "name": "python3"
  },
  "language_info": {
   "codemirror_mode": {
    "name": "ipython",
    "version": 3
   },
   "file_extension": ".py",
   "mimetype": "text/x-python",
   "name": "python",
   "nbconvert_exporter": "python",
   "pygments_lexer": "ipython3",
   "version": "3.6.5"
  }
 },
 "nbformat": 4,
 "nbformat_minor": 2
}
