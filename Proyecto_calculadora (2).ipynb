{
 "cells": [
  {
   "cell_type": "code",
   "execution_count": null,
   "metadata": {},
   "outputs": [],
   "source": [
    "print(\"Cotizacion de Aire Acondicionado\".center(120,\" \"))\n",
    "Metros= input(\"¿Cuantos metros cuadrados es tu edificacion?: \")\n",
    "Temperatura= input(\"¿Quieres solo enfriamiento o enfriamento y calefaccion?: \")\n",
    "def Equipo(x):\n",
    "    Compra= input(\"¿Que tipo de equipo deseas comprar?: \")\n",
    "    eq1= {\"mini SPLIT, 1TR\"}\n",
    "    eq2= {\"mini SPLIT, 2 1/2TR\"}\n",
    "    eq3= {\"Unidad tipo paquete 5TR\"}\n",
    "    eq4= {\"Unidad tipo paquete 10RT\"}\n",
    "    eq5= {\"Unidad manejadora de aire 15-20iR\"}\n",
    "    for i in equipo:\n",
    "        if i== eq1:\n",
    "            Marca= input(\"¿Que marca deseas tu equipo?\")\n",
    "            Carrier={\"Carrier\"}\n",
    "            if i == Carrier: \n",
    "                precio_adicional= i * .05 + 5000\n",
    "            LG== {\"LG\"}\n",
    "            if i == LG: \n",
    "                precio_adicional= i * .03 + 5000\n",
    "            Trox == {\"trox\"}\n",
    "            if i == Trox: \n",
    "                precio_adicional= i * .10 + 5000\n",
    "            print(\"El precio por tu {eq1} es de : $5,000.00\")\n",
    "        elif i == eq2:\n",
    "            print(\"El precio por tu {eq2} es de : $8,000.00\")\n",
    "        elif i == eq3:\n",
    "            print(\"El precio por tu {eq3} es de : $15,000.00\")\n",
    "        elif i == eq4:\n",
    "            print(\"El precio por tu {eq4} es de : $20,000.00\")\n",
    "        elif i == eq5:\n",
    "            print(\"El precio por tu {eq5} es de : $35,000.00\")\n",
    "        else:\n",
    "            Error= (\"Este equipo no esta disponible\")\n",
    "            raise KeyError(Error) \n",
    "\n",
    "\n",
    "\n",
    "\n",
    "    \n",
    "    \n",
    "    \n",
    "\n",
    "    \n",
    "\n",
    "\n",
    "    "
   ]
  },
  {
   "cell_type": "code",
   "execution_count": null,
   "metadata": {},
   "outputs": [],
   "source": []
  },
  {
   "cell_type": "code",
   "execution_count": null,
   "metadata": {},
   "outputs": [],
   "source": []
  }
 ],
 "metadata": {
  "kernelspec": {
   "display_name": "Python 3",
   "language": "python",
   "name": "python3"
  },
  "language_info": {
   "codemirror_mode": {
    "name": "ipython",
    "version": 3
   },
   "file_extension": ".py",
   "mimetype": "text/x-python",
   "name": "python",
   "nbconvert_exporter": "python",
   "pygments_lexer": "ipython3",
   "version": "3.6.5"
  }
 },
 "nbformat": 4,
 "nbformat_minor": 2
}
